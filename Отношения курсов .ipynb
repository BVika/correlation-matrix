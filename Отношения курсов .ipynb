{
 "cells": [
  {
   "cell_type": "markdown",
   "id": "62d8b421",
   "metadata": {},
   "source": [
    "Если доллaр возрастает, то курс Азербайджанского манаты падает "
   ]
  },
  {
   "cell_type": "code",
   "execution_count": 2,
   "id": "d313b5f5",
   "metadata": {
    "scrolled": true
   },
   "outputs": [
    {
     "data": {
      "text/html": [
       "<div>\n",
       "<style scoped>\n",
       "    .dataframe tbody tr th:only-of-type {\n",
       "        vertical-align: middle;\n",
       "    }\n",
       "\n",
       "    .dataframe tbody tr th {\n",
       "        vertical-align: top;\n",
       "    }\n",
       "\n",
       "    .dataframe thead th {\n",
       "        text-align: right;\n",
       "    }\n",
       "</style>\n",
       "<table border=\"1\" class=\"dataframe\">\n",
       "  <thead>\n",
       "    <tr style=\"text-align: right;\">\n",
       "      <th></th>\n",
       "      <th>curs (manat)</th>\n",
       "      <th>curs(USA)</th>\n",
       "    </tr>\n",
       "  </thead>\n",
       "  <tbody>\n",
       "    <tr>\n",
       "      <th>curs (manat)</th>\n",
       "      <td>1.000000</td>\n",
       "      <td>0.314731</td>\n",
       "    </tr>\n",
       "    <tr>\n",
       "      <th>curs(USA)</th>\n",
       "      <td>0.314731</td>\n",
       "      <td>1.000000</td>\n",
       "    </tr>\n",
       "  </tbody>\n",
       "</table>\n",
       "</div>"
      ],
      "text/plain": [
       "              curs (manat)  curs(USA)\n",
       "curs (manat)      1.000000   0.314731\n",
       "curs(USA)         0.314731   1.000000"
      ]
     },
     "execution_count": 2,
     "metadata": {},
     "output_type": "execute_result"
    }
   ],
   "source": [
    "#Импортируем библиотеки\n",
    "import numpy as np\n",
    "import pandas as pd\n",
    "import matplotlib.pyplot as plt\n",
    "\n",
    "#Загружаем таблицу в pandas\n",
    "df = pd.read_csv('file:///C:/Users/Zver/Desktop/Jupyter/curs%20(1).csv')\n",
    "df.drop(['nominal'], inplace=True, axis=1)\n",
    "df.head()\n",
    "\n",
    "#Индексируем строчки датами из колонки data\n",
    "df['data'] = pd.to_datetime(df['data'])\n",
    "df['data']\n",
    "df.index=df['data']\n",
    "df.head()\n",
    "\n",
    "#Добавляем в таблицу столбцы, соответствующие году, месяцу и дню\n",
    "df['Year']=df.index.year\n",
    "df['Mon']=df.index.month\n",
    "df['Day']=df.index.day\n",
    "dates=df[['Year','Mon','Day']]\n",
    "dates.head()\n",
    "\n",
    "#Создаем мультииндекс\n",
    "df.index=pd.MultiIndex.from_tuples(dates.values.tolist(), names=dates.columns)\n",
    "df.head()\n",
    "\n",
    "#Удаляем последнии 3 столбца с годом, месяцем, днем\n",
    "df=df.drop(columns = ['Year', 'Mon','Day' ],axis = 1)\n",
    "df.head()\n",
    "\n",
    "#сгруппируем каждый курс по месяцам\n",
    "year_day_mean=df.groupby(level=[0, 1]).mean()\n",
    "year_day_mean.head()\n",
    "\n",
    "#Посчитаем корреляцию\n",
    "corr=df.corr()\n",
    "corr\n",
    "\n",
    "#Нарисуем картинку\n",
    "#import matplotlib.pyplot as plt\n",
    "#plt.imshow(corr,cmap='seismic',interpolation='none',vmin=-1,vmax=1)\n",
    "#plt.colorbar()\n",
    "#plt.xticks(range(len(corr)),corr.columns)\n",
    "#plt.yticks(range(len(corr)),corr.columns)"
   ]
  },
  {
   "cell_type": "code",
   "execution_count": 25,
   "id": "e35c37ce",
   "metadata": {},
   "outputs": [
    {
     "data": {
      "text/html": [
       "<div>\n",
       "<style scoped>\n",
       "    .dataframe tbody tr th:only-of-type {\n",
       "        vertical-align: middle;\n",
       "    }\n",
       "\n",
       "    .dataframe tbody tr th {\n",
       "        vertical-align: top;\n",
       "    }\n",
       "\n",
       "    .dataframe thead th {\n",
       "        text-align: right;\n",
       "    }\n",
       "</style>\n",
       "<table border=\"1\" class=\"dataframe\">\n",
       "  <thead>\n",
       "    <tr style=\"text-align: right;\">\n",
       "      <th></th>\n",
       "      <th>data</th>\n",
       "      <th>curs (manat)</th>\n",
       "      <th>curs(USA)</th>\n",
       "    </tr>\n",
       "  </thead>\n",
       "  <tbody>\n",
       "    <tr>\n",
       "      <th>0</th>\n",
       "      <td>2022-12-31</td>\n",
       "      <td>41.3750</td>\n",
       "      <td>70.3375</td>\n",
       "    </tr>\n",
       "    <tr>\n",
       "      <th>1</th>\n",
       "      <td>2022-12-30</td>\n",
       "      <td>42.3399</td>\n",
       "      <td>71.9778</td>\n",
       "    </tr>\n",
       "    <tr>\n",
       "      <th>2</th>\n",
       "      <td>2022-12-29</td>\n",
       "      <td>41.9565</td>\n",
       "      <td>71.3261</td>\n",
       "    </tr>\n",
       "    <tr>\n",
       "      <th>3</th>\n",
       "      <td>2022-12-28</td>\n",
       "      <td>41.1380</td>\n",
       "      <td>69.9346</td>\n",
       "    </tr>\n",
       "    <tr>\n",
       "      <th>4</th>\n",
       "      <td>2022-12-27</td>\n",
       "      <td>40.2639</td>\n",
       "      <td>68.4487</td>\n",
       "    </tr>\n",
       "  </tbody>\n",
       "</table>\n",
       "</div>"
      ],
      "text/plain": [
       "         data  curs (manat)  curs(USA)\n",
       "0  2022-12-31       41.3750    70.3375\n",
       "1  2022-12-30       42.3399    71.9778\n",
       "2  2022-12-29       41.9565    71.3261\n",
       "3  2022-12-28       41.1380    69.9346\n",
       "4  2022-12-27       40.2639    68.4487"
      ]
     },
     "execution_count": 25,
     "metadata": {},
     "output_type": "execute_result"
    }
   ],
   "source": [
    "#Импортируем библиотеки\n",
    "import numpy as np\n",
    "import pandas as pd\n",
    "import matplotlib.pyplot as plt\n",
    "\n",
    "#Загружаем таблицу в pandas\n",
    "df = pd.read_csv('file:///C:/Users/Zver/Desktop/Jupyter/curs%20(1).csv')\n",
    "df.drop(['nominal'], inplace=True, axis=1)\n",
    "df.head()\n",
    "\n",
    "#Индексируем строчки датами из колонки data\n",
    "df['data'] = pd.to_datetime(df['data'])\n",
    "df['data']\n",
    "df.index=df['data']\n",
    "df.head()\n"
   ]
  },
  {
   "cell_type": "code",
   "execution_count": null,
   "id": "13be6710",
   "metadata": {},
   "outputs": [],
   "source": []
  }
 ],
 "metadata": {
  "kernelspec": {
   "display_name": "Python 3 (ipykernel)",
   "language": "python",
   "name": "python3"
  },
  "language_info": {
   "codemirror_mode": {
    "name": "ipython",
    "version": 3
   },
   "file_extension": ".py",
   "mimetype": "text/x-python",
   "name": "python",
   "nbconvert_exporter": "python",
   "pygments_lexer": "ipython3",
   "version": "3.9.12"
  }
 },
 "nbformat": 4,
 "nbformat_minor": 5
}
